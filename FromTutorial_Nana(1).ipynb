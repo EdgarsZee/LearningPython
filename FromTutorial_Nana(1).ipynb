{
  "nbformat": 4,
  "nbformat_minor": 0,
  "metadata": {
    "colab": {
      "name": "FromTutorial_Nana(1).ipynb",
      "provenance": [],
      "collapsed_sections": [],
      "authorship_tag": "ABX9TyMi3od6KIEg4yA1mGFjlGai",
      "include_colab_link": true
    },
    "kernelspec": {
      "name": "python3",
      "display_name": "Python 3"
    },
    "language_info": {
      "name": "python"
    }
  },
  "cells": [
    {
      "cell_type": "markdown",
      "metadata": {
        "id": "view-in-github",
        "colab_type": "text"
      },
      "source": [
        "<a href=\"https://colab.research.google.com/github/EdgarsZee/LearningPython/blob/main/FromTutorial_Nana(1).ipynb\" target=\"_parent\"><img src=\"https://colab.research.google.com/assets/colab-badge.svg\" alt=\"Open In Colab\"/></a>"
      ]
    },
    {
      "cell_type": "code",
      "metadata": {
        "colab": {
          "base_uri": "https://localhost:8080/"
        },
        "id": "YNYQAfkFL93B",
        "outputId": "0e1b2e31-c710-47d0-d637-abc13f660243"
      },
      "source": [
        "calculation_to_units = 24\n",
        "name_of_unit = \"Hours\"\n",
        "\n",
        "def days_to_units(num_of_days):\n",
        "  return f\"{num_of_days} days are {num_of_days * calculation_to_units}{name_of_unit}\"\n",
        "\n",
        "\n",
        "#^return f\"......\n",
        "#my_var = days_to_units(45)\n",
        "#print(my_var)\n",
        "\n",
        "user_input = input(\"Hey user, enter a number of days and I will convert it to hours!\\n\")\n",
        "user_input_number = int(user_input)\n",
        "\n",
        "calculated_value = days_to_units(user_input_number)\n",
        "print(calculated_value)\n"
      ],
      "execution_count": null,
      "outputs": [
        {
          "output_type": "stream",
          "name": "stdout",
          "text": [
            "Hey user, enter a number of days and I will convert it to hours!\n",
            "10\n",
            "10 days are 240Hours\n"
          ]
        }
      ]
    }
  ]
}