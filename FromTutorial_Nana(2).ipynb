{
  "nbformat": 4,
  "nbformat_minor": 0,
  "metadata": {
    "colab": {
      "name": "FromTutorial_Nana(2).ipynb",
      "provenance": [],
      "collapsed_sections": [],
      "authorship_tag": "ABX9TyPyuQNbJTsvoOlkW9Sft0wg",
      "include_colab_link": true
    },
    "kernelspec": {
      "name": "python3",
      "display_name": "Python 3"
    },
    "language_info": {
      "name": "python"
    }
  },
  "cells": [
    {
      "cell_type": "markdown",
      "metadata": {
        "id": "view-in-github",
        "colab_type": "text"
      },
      "source": [
        "<a href=\"https://colab.research.google.com/github/EdgarsZee/LearningPython/blob/main/FromTutorial_Nana(2).ipynb\" target=\"_parent\"><img src=\"https://colab.research.google.com/assets/colab-badge.svg\" alt=\"Open In Colab\"/></a>"
      ]
    },
    {
      "cell_type": "code",
      "metadata": {
        "id": "F03E8DdpTdvh",
        "colab": {
          "base_uri": "https://localhost:8080/"
        },
        "outputId": "d8a8ec01-f847-434e-c62f-d3bfd6d358ea"
      },
      "source": [
        "calculation_to_units = 24\n",
        "name_of_unit = \"Hours\"\n",
        "\n",
        "def days_to_units(num_of_days):\n",
        "  #\"If...Else\" statement\n",
        "  #print(num_of_days > 0)\n",
        "  condition_check = num_of_days > 0\n",
        "  #print(type(condition_check))\n",
        "  if num_of_days > 0:        #This is our condition- if condition (CAN BE TRUE OR FALSE- Boolean data type) is correct: then do this / Otherwise: do this      #Python Comparison Operators (<>=)      #(+-.... Python Arithmetic operators )\n",
        "    return f\"{num_of_days} days are {num_of_days * calculation_to_units}{name_of_unit}\"\n",
        "  elif num_of_days == 0:\n",
        "    return \"you entered a 0, please enter a valid positive number!\"\n",
        "  #else:\n",
        "    #return \"you entered a negative value, so no conversion for you!\"\n",
        "\n",
        "def validate_and_execute():\n",
        "    if user_input.isdigit(): \n",
        "        user_input_number = int(user_input)\n",
        "        calculated_value = days_to_units(user_input_number)\n",
        "        print(calculated_value)\n",
        "    else:\n",
        "      print(\"your input is not a valid number. Don't ruin my program!\")\n",
        "\n",
        "user_input = input(\"Hey user, enter a number of days and I will convert it to hours!\\n\")\n",
        "validate_and_execute()\n",
        "\n",
        "#Validation before input                    #^ To clean this up make a function with def .....\n",
        "#if user_input.isdigit(): \n",
        "  #user_input_number = int(user_input)\n",
        "  #calculated_value = days_to_units(user_input_number)\n",
        "  #print(calculated_value)\n",
        "\n",
        "#else:\n",
        "  #print(\"your input is not a valid number. Don't ruin my program!\")\n"
      ],
      "execution_count": null,
      "outputs": [
        {
          "output_type": "stream",
          "name": "stdout",
          "text": [
            "Hey user, enter a number of days and I will convert it to hours!\n",
            "19.99\n",
            "your input is not a valid number. Don't ruin my program!\n"
          ]
        }
      ]
    }
  ]
}