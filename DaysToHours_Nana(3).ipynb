{
  "nbformat": 4,
  "nbformat_minor": 0,
  "metadata": {
    "colab": {
      "name": "DaysToHours_Nana(3).ipynb",
      "provenance": [],
      "collapsed_sections": [],
      "authorship_tag": "ABX9TyMsJuZdX/qydeHuDW4naCst",
      "include_colab_link": true
    },
    "kernelspec": {
      "name": "python3",
      "display_name": "Python 3"
    },
    "language_info": {
      "name": "python"
    }
  },
  "cells": [
    {
      "cell_type": "markdown",
      "metadata": {
        "id": "view-in-github",
        "colab_type": "text"
      },
      "source": [
        "<a href=\"https://colab.research.google.com/github/EdgarsZee/LearningPython/blob/main/DaysToHours_Nana(3).ipynb\" target=\"_parent\"><img src=\"https://colab.research.google.com/assets/colab-badge.svg\" alt=\"Open In Colab\"/></a>"
      ]
    },
    {
      "cell_type": "code",
      "metadata": {
        "id": "h7NYeUlDgLFx",
        "colab": {
          "base_uri": "https://localhost:8080/"
        },
        "outputId": "848b211a-5a4d-433b-9461-0ef61197ccd7"
      },
      "source": [
        "calculation_to_units = 24\n",
        "name_of_unit = \"Hours\"\n",
        "\n",
        "def days_to_units(num_of_days):\n",
        "    return f\"{num_of_days} days are {num_of_days * calculation_to_units} {name_of_unit}\"\n",
        "    \n",
        "def validate_and_execute():\n",
        "    try:\n",
        " \n",
        "        user_input_number = int(num_of_days_element)\n",
        "        if user_input_number > 0:\n",
        "            calculated_value = days_to_units(user_input_number)\n",
        "            print(calculated_value)\n",
        "        elif user_input_number == 0:\n",
        "            print(\"you entered a 0, please enter a valid positive number!\")\n",
        "        else: \n",
        "          print(\"you entered a negative number, no convestion for you!\")\n",
        "\n",
        "    except ValueError:\n",
        "      print(\"your input is not a valid number. Don't ruin my program!\")\n",
        "\n",
        "\n",
        "user_input = \"\"\n",
        "while user_input != \"exit\":\n",
        "    user_input = input(\"Hey user, enter number of days as a comma seperated list and I will convert it to hours!\\n\")\n",
        "    #print(type(user_input.split(\", \")))\n",
        "    print(user_input.split(\", \"))\n",
        "    for num_of_days_element in user_input.split(\", \"):\n",
        "      validate_and_execute()\n",
        "\n",
        "\n",
        "\n",
        "#Let user exit the program\n",
        "\n",
        "\n",
        "\n"
      ],
      "execution_count": null,
      "outputs": [
        {
          "output_type": "stream",
          "name": "stdout",
          "text": [
            "Hey user, enter number of days as a comma seperated list and I will convert it to hours!\n",
            "2\n",
            "['2']\n",
            "2 days are 48 Hours\n",
            "Hey user, enter number of days as a comma seperated list and I will convert it to hours!\n",
            "0\n",
            "['0']\n",
            "you entered a 0, please enter a valid positive number!\n",
            "Hey user, enter number of days as a comma seperated list and I will convert it to hours!\n",
            "-2\n",
            "['-2']\n",
            "you entered a negative number, no convestion for you!\n",
            "Hey user, enter number of days as a comma seperated list and I will convert it to hours!\n",
            "19.99\n",
            "['19.99']\n",
            "your input is not a valid number. Don't ruin my program!\n",
            "Hey user, enter number of days as a comma seperated list and I will convert it to hours!\n",
            "7, 2, 0, 4\n",
            "['7', '2', '0', '4']\n",
            "7 days are 168 Hours\n",
            "2 days are 48 Hours\n",
            "you entered a 0, please enter a valid positive number!\n",
            "4 days are 96 Hours\n",
            "Hey user, enter number of days as a comma seperated list and I will convert it to hours!\n",
            "exit\n",
            "['exit']\n",
            "your input is not a valid number. Don't ruin my program!\n"
          ]
        }
      ]
    }
  ]
}