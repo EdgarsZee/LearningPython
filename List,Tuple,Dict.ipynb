{
  "nbformat": 4,
  "nbformat_minor": 0,
  "metadata": {
    "colab": {
      "name": "List,Tuple,Dict.ipynb",
      "provenance": [],
      "collapsed_sections": [],
      "authorship_tag": "ABX9TyNZc74aGILbC/fe0uJfMxYP",
      "include_colab_link": true
    },
    "kernelspec": {
      "name": "python3",
      "display_name": "Python 3"
    },
    "language_info": {
      "name": "python"
    }
  },
  "cells": [
    {
      "cell_type": "markdown",
      "metadata": {
        "id": "view-in-github",
        "colab_type": "text"
      },
      "source": [
        "<a href=\"https://colab.research.google.com/github/EdgarsZee/LearningPython/blob/main/List%2CTuple%2CDict.ipynb\" target=\"_parent\"><img src=\"https://colab.research.google.com/assets/colab-badge.svg\" alt=\"Open In Colab\"/></a>"
      ]
    },
    {
      "cell_type": "code",
      "metadata": {
        "id": "MbPo_Yfwz2WH",
        "colab": {
          "base_uri": "https://localhost:8080/"
        },
        "outputId": "45ccccd9-27b2-4b87-aa45-75aa3cf7c8a3"
      },
      "source": [
        "L = []\n",
        "L = [11, 22, 33 ,77, 44]\n",
        "L.append(3.14)\n",
        "L.append(\"Hello\")\n",
        "L.insert(2, \"Edibo\")\n",
        "\n",
        "\n",
        "\n",
        "#len(L)\n",
        "L.append(\"Hello\")\n",
        "\n",
        "print(L)\n",
        "#L.sort()\n",
        "\n",
        "print(L)\n",
        "#L.append(\"Hello\")\n",
        "L.reverse()\n",
        "#print(L)\n",
        "L.append(D)\n",
        "print(L)"
      ],
      "execution_count": null,
      "outputs": [
        {
          "output_type": "stream",
          "name": "stdout",
          "text": [
            "[11, 22, 'Edibo', 33, 77, 44, 3.14, 'Hello', 'Hello']\n",
            "[11, 22, 'Edibo', 33, 77, 44, 3.14, 'Hello', 'Hello']\n",
            "['Hello', 'Hello', 3.14, 44, 77, 33, 'Edibo', 22, 11, {'abols': 'apple', 'bumbieris': 'birne', ' pi': '3.14', 'e': 2.72, 'a': 'alpha', 'T': (33, 44, 33, 99, '64', 24, 33)}]\n"
          ]
        }
      ]
    },
    {
      "cell_type": "markdown",
      "metadata": {
        "id": "MGkdi2mix0a5"
      },
      "source": [
        "Tuple object"
      ]
    },
    {
      "cell_type": "code",
      "metadata": {
        "colab": {
          "base_uri": "https://localhost:8080/"
        },
        "id": "q7oqQZInx2qw",
        "outputId": "d013c7c2-d814-422e-a309-8cf0b3ef6812"
      },
      "source": [
        "T = (33,44,33,99,\"64\",24,33)\n",
        "T.count(33)\n",
        "\n",
        "z = 3+4j\n",
        "print(type(z))\n",
        "print(z)\n",
        "print(T)"
      ],
      "execution_count": null,
      "outputs": [
        {
          "output_type": "stream",
          "name": "stdout",
          "text": [
            "<class 'complex'>\n",
            "(3+4j)\n",
            "(33, 44, 33, 99, '64', 24, 33)\n"
          ]
        }
      ]
    },
    {
      "cell_type": "markdown",
      "metadata": {
        "id": "IrTqB34fBD6U"
      },
      "source": [
        "Dictionary - Dict"
      ]
    },
    {
      "cell_type": "code",
      "metadata": {
        "colab": {
          "base_uri": "https://localhost:8080/"
        },
        "id": "2aYNZrLJBW9z",
        "outputId": "1f3b5d00-de01-40ae-918d-81e843fba443"
      },
      "source": [
        "D = {}\n",
        "#      Key    Value\n",
        "D = {'abols':'apple', 'bumbieris':'birne', ' pi':'3.14', 'e': 2.72}\n",
        "\n",
        "print(D['abols'])\n",
        "print(D['bumbieris'])\n",
        "print(D[' pi'])\n",
        "print(D['e'])\n",
        "\n",
        "D.update({'a':'alpha'})\n",
        "print(D)\n",
        "D.update({'T': T })\n",
        "print(D)"
      ],
      "execution_count": null,
      "outputs": [
        {
          "output_type": "stream",
          "name": "stdout",
          "text": [
            "apple\n",
            "birne\n",
            "3.14\n",
            "2.72\n",
            "{'abols': 'apple', 'bumbieris': 'birne', ' pi': '3.14', 'e': 2.72, 'a': 'alpha'}\n",
            "{'abols': 'apple', 'bumbieris': 'birne', ' pi': '3.14', 'e': 2.72, 'a': 'alpha', 'T': (33, 44, 33, 99, '64', 24, 33)}\n"
          ]
        }
      ]
    },
    {
      "cell_type": "markdown",
      "metadata": {
        "id": "zHZ4LWNjGIqv"
      },
      "source": [
        "Cikli.              \n",
        "\n",
        "```\n",
        "```\n",
        "\n",
        " i- iterējams objekts"
      ]
    },
    {
      "cell_type": "code",
      "metadata": {
        "colab": {
          "base_uri": "https://localhost:8080/"
        },
        "id": "FjLAf8m4GLFQ",
        "outputId": "2cf0bf98-84d6-485b-eaf6-55c2f7a37484"
      },
      "source": [
        "d = (25,37,99,3.14)\n",
        "print(d)\n",
        "\n",
        "for i in d:\n",
        "  print(d)\n",
        "\n",
        "while (False): \n",
        "  print(\"Hello\")"
      ],
      "execution_count": null,
      "outputs": [
        {
          "output_type": "stream",
          "name": "stdout",
          "text": [
            "(25, 37, 99, 3.14)\n",
            "(25, 37, 99, 3.14)\n",
            "(25, 37, 99, 3.14)\n",
            "(25, 37, 99, 3.14)\n",
            "(25, 37, 99, 3.14)\n"
          ]
        }
      ]
    },
    {
      "cell_type": "code",
      "metadata": {
        "colab": {
          "base_uri": "https://localhost:8080/"
        },
        "id": "zmoxGpY8NomD",
        "outputId": "b41ced68-8c0b-4ca0-9b70-47a3a9c783a9"
      },
      "source": [
        "s = \"john@gmail.com\"\n",
        "t = s.split(\"@\")\n",
        "print(t)\n",
        "print(type(t))\n",
        "print(t[1])"
      ],
      "execution_count": null,
      "outputs": [
        {
          "output_type": "stream",
          "name": "stdout",
          "text": [
            "['john', 'gmail.com']\n",
            "<class 'list'>\n",
            "gmail.com\n"
          ]
        }
      ]
    }
  ]
}