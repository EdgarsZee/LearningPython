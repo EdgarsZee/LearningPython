{
  "nbformat": 4,
  "nbformat_minor": 0,
  "metadata": {
    "colab": {
      "name": "Set+Removing_Spaces.ipynb",
      "provenance": [],
      "collapsed_sections": [],
      "authorship_tag": "ABX9TyMXL2KUph5GFC2wUA1oqkL8",
      "include_colab_link": true
    },
    "kernelspec": {
      "name": "python3",
      "display_name": "Python 3"
    },
    "language_info": {
      "name": "python"
    }
  },
  "cells": [
    {
      "cell_type": "markdown",
      "metadata": {
        "id": "view-in-github",
        "colab_type": "text"
      },
      "source": [
        "<a href=\"https://colab.research.google.com/github/EdgarsZee/LearningPython/blob/main/Set%2BRemoving_Spaces.ipynb\" target=\"_parent\"><img src=\"https://colab.research.google.com/assets/colab-badge.svg\" alt=\"Open In Colab\"/></a>"
      ]
    },
    {
      "cell_type": "code",
      "metadata": {
        "id": "k6Z7leQvzG67",
        "colab": {
          "base_uri": "https://localhost:8080/"
        },
        "outputId": "76ee817f-7912-4c18-8a6f-d9b27373baac"
      },
      "source": [
        "my_set = {\"January\", \"February\", \"March\"}\n",
        "for element in my_set:\n",
        "  print(element)\n",
        "\n",
        "my_set.add(\"April\")\n",
        "print(my_set)\n",
        "my_set.remove(\"January\")\n",
        "print(my_set)"
      ],
      "execution_count": null,
      "outputs": [
        {
          "output_type": "stream",
          "name": "stdout",
          "text": [
            "March\n",
            "January\n",
            "February\n",
            "{'March', 'April', 'January', 'February'}\n",
            "{'March', 'April', 'February'}\n"
          ]
        }
      ]
    },
    {
      "cell_type": "markdown",
      "metadata": {
        "id": "JazktXiFHxbt"
      },
      "source": [
        "**Removing Spaces**"
      ]
    },
    {
      "cell_type": "code",
      "metadata": {
        "colab": {
          "base_uri": "https://localhost:8080/",
          "height": 35
        },
        "id": "2oTZUZuBH2L8",
        "outputId": "3fe0f84f-d113-47f3-fe4f-e75900489281"
      },
      "source": [
        "s = \"Andris Krauklis;     ak@inbox.lv\"\n",
        "t = s.split(\";\")[1].lstrip()\n",
        "t.lstrip()"
      ],
      "execution_count": 1,
      "outputs": [
        {
          "output_type": "execute_result",
          "data": {
            "application/vnd.google.colaboratory.intrinsic+json": {
              "type": "string"
            },
            "text/plain": [
              "'ak@inbox.lv'"
            ]
          },
          "metadata": {},
          "execution_count": 1
        }
      ]
    }
  ]
}